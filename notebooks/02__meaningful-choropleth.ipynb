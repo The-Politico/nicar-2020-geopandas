{
 "cells": [
  {
   "cell_type": "markdown",
   "metadata": {},
   "source": [
    "Import needed libraries."
   ]
  },
  {
   "cell_type": "code",
   "execution_count": 50,
   "metadata": {},
   "outputs": [],
   "source": [
    "import geopandas as gpd\n",
    "from matplotlib import pyplot as plt\n",
    "import pandas as pd\n",
    "import us"
   ]
  },
  {
   "cell_type": "markdown",
   "metadata": {},
   "source": [
    "Configure `matplotlib`."
   ]
  },
  {
   "cell_type": "code",
   "execution_count": 51,
   "metadata": {},
   "outputs": [],
   "source": [
    "%matplotlib inline"
   ]
  },
  {
   "cell_type": "markdown",
   "metadata": {},
   "source": [
    "Load county shapefile and check out the first couple rows."
   ]
  },
  {
   "cell_type": "code",
   "execution_count": 52,
   "metadata": {},
   "outputs": [
    {
     "data": {
      "text/html": [
       "<div>\n",
       "<style scoped>\n",
       "    .dataframe tbody tr th:only-of-type {\n",
       "        vertical-align: middle;\n",
       "    }\n",
       "\n",
       "    .dataframe tbody tr th {\n",
       "        vertical-align: top;\n",
       "    }\n",
       "\n",
       "    .dataframe thead th {\n",
       "        text-align: right;\n",
       "    }\n",
       "</style>\n",
       "<table border=\"1\" class=\"dataframe\">\n",
       "  <thead>\n",
       "    <tr style=\"text-align: right;\">\n",
       "      <th></th>\n",
       "      <th>STATEFP</th>\n",
       "      <th>COUNTYFP</th>\n",
       "      <th>COUNTYNS</th>\n",
       "      <th>GEOID</th>\n",
       "      <th>NAME</th>\n",
       "      <th>NAMELSAD</th>\n",
       "      <th>ALAND</th>\n",
       "      <th>AWATER</th>\n",
       "      <th>INTPTLAT</th>\n",
       "      <th>INTPTLON</th>\n",
       "      <th>geometry</th>\n",
       "    </tr>\n",
       "  </thead>\n",
       "  <tbody>\n",
       "    <tr>\n",
       "      <th>0</th>\n",
       "      <td>31</td>\n",
       "      <td>039</td>\n",
       "      <td>00835841</td>\n",
       "      <td>31039</td>\n",
       "      <td>Cuming</td>\n",
       "      <td>Cuming County</td>\n",
       "      <td>1477652222</td>\n",
       "      <td>10690952</td>\n",
       "      <td>+41.9158651</td>\n",
       "      <td>-096.7885168</td>\n",
       "      <td>POLYGON ((246290.041 -328619.667, 246286.510 -...</td>\n",
       "    </tr>\n",
       "    <tr>\n",
       "      <th>1</th>\n",
       "      <td>53</td>\n",
       "      <td>069</td>\n",
       "      <td>01513275</td>\n",
       "      <td>53069</td>\n",
       "      <td>Wahkiakum</td>\n",
       "      <td>Wahkiakum County</td>\n",
       "      <td>680956809</td>\n",
       "      <td>61588406</td>\n",
       "      <td>+46.2946377</td>\n",
       "      <td>-123.4244583</td>\n",
       "      <td>POLYGON ((-1770686.984 398793.664, -1771124.91...</td>\n",
       "    </tr>\n",
       "  </tbody>\n",
       "</table>\n",
       "</div>"
      ],
      "text/plain": [
       "  STATEFP COUNTYFP  COUNTYNS  GEOID       NAME          NAMELSAD       ALAND  \\\n",
       "0      31      039  00835841  31039     Cuming     Cuming County  1477652222   \n",
       "1      53      069  01513275  53069  Wahkiakum  Wahkiakum County   680956809   \n",
       "\n",
       "     AWATER     INTPTLAT      INTPTLON  \\\n",
       "0  10690952  +41.9158651  -096.7885168   \n",
       "1  61588406  +46.2946377  -123.4244583   \n",
       "\n",
       "                                            geometry  \n",
       "0  POLYGON ((246290.041 -328619.667, 246286.510 -...  \n",
       "1  POLYGON ((-1770686.984 398793.664, -1771124.91...  "
      ]
     },
     "execution_count": 52,
     "metadata": {},
     "output_type": "execute_result"
    }
   ],
   "source": [
    "counties = gpd.read_file(\n",
    "    \"../source_data/counties_simple/counties_simple.shp\"\n",
    ")\n",
    "\n",
    "counties.head(2)"
   ]
  },
  {
   "cell_type": "markdown",
   "metadata": {},
   "source": [
    "Now let's filter to an individual state.\n",
    "\n",
    "We don't have a column with state name, but we can use **FIPS Codes**.\n",
    "\n",
    "To start, get the FIPS Code for your desired state."
   ]
  },
  {
   "cell_type": "code",
   "execution_count": 53,
   "metadata": {},
   "outputs": [
    {
     "name": "stdout",
     "output_type": "stream",
     "text": [
      "05\n"
     ]
    }
   ],
   "source": [
    "state_obj = us.states.lookup('AR')\n",
    "\n",
    "state_obj.fips\n",
    "\n",
    "print(state_obj.fips)"
   ]
  },
  {
   "cell_type": "markdown",
   "metadata": {},
   "source": [
    "Then, filter to only the counties in that state."
   ]
  },
  {
   "cell_type": "code",
   "execution_count": 54,
   "metadata": {},
   "outputs": [
    {
     "data": {
      "text/html": [
       "<div>\n",
       "<style scoped>\n",
       "    .dataframe tbody tr th:only-of-type {\n",
       "        vertical-align: middle;\n",
       "    }\n",
       "\n",
       "    .dataframe tbody tr th {\n",
       "        vertical-align: top;\n",
       "    }\n",
       "\n",
       "    .dataframe thead th {\n",
       "        text-align: right;\n",
       "    }\n",
       "</style>\n",
       "<table border=\"1\" class=\"dataframe\">\n",
       "  <thead>\n",
       "    <tr style=\"text-align: right;\">\n",
       "      <th></th>\n",
       "      <th>STATEFP</th>\n",
       "      <th>COUNTYFP</th>\n",
       "      <th>COUNTYNS</th>\n",
       "      <th>GEOID</th>\n",
       "      <th>NAME</th>\n",
       "      <th>NAMELSAD</th>\n",
       "      <th>ALAND</th>\n",
       "      <th>AWATER</th>\n",
       "      <th>INTPTLAT</th>\n",
       "      <th>INTPTLON</th>\n",
       "      <th>geometry</th>\n",
       "    </tr>\n",
       "  </thead>\n",
       "  <tbody>\n",
       "    <tr>\n",
       "      <th>16</th>\n",
       "      <td>05</td>\n",
       "      <td>137</td>\n",
       "      <td>00069902</td>\n",
       "      <td>05137</td>\n",
       "      <td>Stone</td>\n",
       "      <td>Stone County</td>\n",
       "      <td>1570579417</td>\n",
       "      <td>7841927</td>\n",
       "      <td>+35.8570011</td>\n",
       "      <td>-092.1404819</td>\n",
       "      <td>POLYGON ((684573.663 -984338.346, 684531.746 -...</td>\n",
       "    </tr>\n",
       "    <tr>\n",
       "      <th>121</th>\n",
       "      <td>05</td>\n",
       "      <td>113</td>\n",
       "      <td>00069175</td>\n",
       "      <td>05113</td>\n",
       "      <td>Polk</td>\n",
       "      <td>Polk County</td>\n",
       "      <td>2221382790</td>\n",
       "      <td>12372287</td>\n",
       "      <td>+34.4909149</td>\n",
       "      <td>-094.2308841</td>\n",
       "      <td>POLYGON ((508551.083 -1129377.647, 508544.800 ...</td>\n",
       "    </tr>\n",
       "    <tr>\n",
       "      <th>187</th>\n",
       "      <td>05</td>\n",
       "      <td>063</td>\n",
       "      <td>00069163</td>\n",
       "      <td>05063</td>\n",
       "      <td>Independence</td>\n",
       "      <td>Independence County</td>\n",
       "      <td>1978631568</td>\n",
       "      <td>19593589</td>\n",
       "      <td>+35.7374992</td>\n",
       "      <td>-091.5599423</td>\n",
       "      <td>POLYGON ((737735.337 -991842.164, 737621.016 -...</td>\n",
       "    </tr>\n",
       "  </tbody>\n",
       "</table>\n",
       "</div>"
      ],
      "text/plain": [
       "    STATEFP COUNTYFP  COUNTYNS  GEOID          NAME             NAMELSAD  \\\n",
       "16       05      137  00069902  05137         Stone         Stone County   \n",
       "121      05      113  00069175  05113          Polk          Polk County   \n",
       "187      05      063  00069163  05063  Independence  Independence County   \n",
       "\n",
       "          ALAND    AWATER     INTPTLAT      INTPTLON  \\\n",
       "16   1570579417   7841927  +35.8570011  -092.1404819   \n",
       "121  2221382790  12372287  +34.4909149  -094.2308841   \n",
       "187  1978631568  19593589  +35.7374992  -091.5599423   \n",
       "\n",
       "                                              geometry  \n",
       "16   POLYGON ((684573.663 -984338.346, 684531.746 -...  \n",
       "121  POLYGON ((508551.083 -1129377.647, 508544.800 ...  \n",
       "187  POLYGON ((737735.337 -991842.164, 737621.016 -...  "
      ]
     },
     "execution_count": 54,
     "metadata": {},
     "output_type": "execute_result"
    }
   ],
   "source": [
    "sole_state = counties[ counties['STATEFP'] == state_obj.fips]\n",
    "\n",
    "sole_state.head(3)"
   ]
  },
  {
   "cell_type": "markdown",
   "metadata": {},
   "source": [
    "Now plot those counties to check your work."
   ]
  },
  {
   "cell_type": "code",
   "execution_count": 55,
   "metadata": {},
   "outputs": [
    {
     "data": {
      "text/plain": [
       "<matplotlib.axes._subplots.AxesSubplot at 0x12326df60>"
      ]
     },
     "execution_count": 55,
     "metadata": {},
     "output_type": "execute_result"
    },
    {
     "data": {
      "image/png": "[encoded data removed]",
      "text/plain": [
       "<Figure size 432x288 with 1 Axes>"
      ]
     },
     "metadata": {
      "needs_background": "light"
     },
     "output_type": "display_data"
    }
   ],
   "source": [
    "sole_state.plot()"
   ]
  },
  {
   "cell_type": "markdown",
   "metadata": {},
   "source": [
    "## Joining a shapefile with other data"
   ]
  },
  {
   "cell_type": "markdown",
   "metadata": {},
   "source": [
    "Load & inspect 2016 Clinton vs. Sanders county-by-county results:"
   ]
  },
  {
   "cell_type": "code",
   "execution_count": 56,
   "metadata": {},
   "outputs": [
    {
     "data": {
      "text/html": [
       "<div>\n",
       "<style scoped>\n",
       "    .dataframe tbody tr th:only-of-type {\n",
       "        vertical-align: middle;\n",
       "    }\n",
       "\n",
       "    .dataframe tbody tr th {\n",
       "        vertical-align: top;\n",
       "    }\n",
       "\n",
       "    .dataframe thead th {\n",
       "        text-align: right;\n",
       "    }\n",
       "</style>\n",
       "<table border=\"1\" class=\"dataframe\">\n",
       "  <thead>\n",
       "    <tr style=\"text-align: right;\">\n",
       "      <th></th>\n",
       "      <th>group</th>\n",
       "      <th>fips_code</th>\n",
       "      <th>clinton_votes</th>\n",
       "      <th>sanders_votes</th>\n",
       "      <th>clinton_margin</th>\n",
       "      <th>clinton_percent</th>\n",
       "    </tr>\n",
       "  </thead>\n",
       "  <tbody>\n",
       "    <tr>\n",
       "      <th>0</th>\n",
       "      <td>Alabama</td>\n",
       "      <td>01001</td>\n",
       "      <td>2387</td>\n",
       "      <td>544</td>\n",
       "      <td>1843</td>\n",
       "      <td>0.628796</td>\n",
       "    </tr>\n",
       "    <tr>\n",
       "      <th>1</th>\n",
       "      <td>Alabama</td>\n",
       "      <td>01003</td>\n",
       "      <td>5290</td>\n",
       "      <td>2694</td>\n",
       "      <td>2596</td>\n",
       "      <td>0.325150</td>\n",
       "    </tr>\n",
       "    <tr>\n",
       "      <th>2</th>\n",
       "      <td>Alabama</td>\n",
       "      <td>01005</td>\n",
       "      <td>2567</td>\n",
       "      <td>222</td>\n",
       "      <td>2345</td>\n",
       "      <td>0.840803</td>\n",
       "    </tr>\n",
       "  </tbody>\n",
       "</table>\n",
       "</div>"
      ],
      "text/plain": [
       "     group fips_code  clinton_votes  sanders_votes  clinton_margin  \\\n",
       "0  Alabama     01001           2387            544            1843   \n",
       "1  Alabama     01003           5290           2694            2596   \n",
       "2  Alabama     01005           2567            222            2345   \n",
       "\n",
       "   clinton_percent  \n",
       "0         0.628796  \n",
       "1         0.325150  \n",
       "2         0.840803  "
      ]
     },
     "execution_count": 56,
     "metadata": {},
     "output_type": "execute_result"
    }
   ],
   "source": [
    "sixteen_margins = pd.read_csv(\n",
    "    \"../source_data/2016-clinton-vs-sanders.csv\",\n",
    "    dtype = {\n",
    "        \"fips_code\": str,\n",
    "        \"clinton_percent\": float,\n",
    "    },\n",
    ")\n",
    "\n",
    "sixteen_margins.head(3)"
   ]
  },
  {
   "cell_type": "markdown",
   "metadata": {},
   "source": [
    "Looks good! Let's merge this data to our shapefile the using the `fips_code` field.\n",
    "\n",
    "Print out the first few rows of the shapefile to make sure that'll work:"
   ]
  },
  {
   "cell_type": "code",
   "execution_count": 57,
   "metadata": {},
   "outputs": [
    {
     "data": {
      "text/html": [
       "<div>\n",
       "<style scoped>\n",
       "    .dataframe tbody tr th:only-of-type {\n",
       "        vertical-align: middle;\n",
       "    }\n",
       "\n",
       "    .dataframe tbody tr th {\n",
       "        vertical-align: top;\n",
       "    }\n",
       "\n",
       "    .dataframe thead th {\n",
       "        text-align: right;\n",
       "    }\n",
       "</style>\n",
       "<table border=\"1\" class=\"dataframe\">\n",
       "  <thead>\n",
       "    <tr style=\"text-align: right;\">\n",
       "      <th></th>\n",
       "      <th>STATEFP</th>\n",
       "      <th>COUNTYFP</th>\n",
       "      <th>COUNTYNS</th>\n",
       "      <th>GEOID</th>\n",
       "      <th>NAME</th>\n",
       "      <th>NAMELSAD</th>\n",
       "      <th>ALAND</th>\n",
       "      <th>AWATER</th>\n",
       "      <th>INTPTLAT</th>\n",
       "      <th>INTPTLON</th>\n",
       "      <th>geometry</th>\n",
       "    </tr>\n",
       "  </thead>\n",
       "  <tbody>\n",
       "    <tr>\n",
       "      <th>16</th>\n",
       "      <td>05</td>\n",
       "      <td>137</td>\n",
       "      <td>00069902</td>\n",
       "      <td>05137</td>\n",
       "      <td>Stone</td>\n",
       "      <td>Stone County</td>\n",
       "      <td>1570579417</td>\n",
       "      <td>7841927</td>\n",
       "      <td>+35.8570011</td>\n",
       "      <td>-092.1404819</td>\n",
       "      <td>POLYGON ((684573.663 -984338.346, 684531.746 -...</td>\n",
       "    </tr>\n",
       "    <tr>\n",
       "      <th>121</th>\n",
       "      <td>05</td>\n",
       "      <td>113</td>\n",
       "      <td>00069175</td>\n",
       "      <td>05113</td>\n",
       "      <td>Polk</td>\n",
       "      <td>Polk County</td>\n",
       "      <td>2221382790</td>\n",
       "      <td>12372287</td>\n",
       "      <td>+34.4909149</td>\n",
       "      <td>-094.2308841</td>\n",
       "      <td>POLYGON ((508551.083 -1129377.647, 508544.800 ...</td>\n",
       "    </tr>\n",
       "    <tr>\n",
       "      <th>187</th>\n",
       "      <td>05</td>\n",
       "      <td>063</td>\n",
       "      <td>00069163</td>\n",
       "      <td>05063</td>\n",
       "      <td>Independence</td>\n",
       "      <td>Independence County</td>\n",
       "      <td>1978631568</td>\n",
       "      <td>19593589</td>\n",
       "      <td>+35.7374992</td>\n",
       "      <td>-091.5599423</td>\n",
       "      <td>POLYGON ((737735.337 -991842.164, 737621.016 -...</td>\n",
       "    </tr>\n",
       "  </tbody>\n",
       "</table>\n",
       "</div>"
      ],
      "text/plain": [
       "    STATEFP COUNTYFP  COUNTYNS  GEOID          NAME             NAMELSAD  \\\n",
       "16       05      137  00069902  05137         Stone         Stone County   \n",
       "121      05      113  00069175  05113          Polk          Polk County   \n",
       "187      05      063  00069163  05063  Independence  Independence County   \n",
       "\n",
       "          ALAND    AWATER     INTPTLAT      INTPTLON  \\\n",
       "16   1570579417   7841927  +35.8570011  -092.1404819   \n",
       "121  2221382790  12372287  +34.4909149  -094.2308841   \n",
       "187  1978631568  19593589  +35.7374992  -091.5599423   \n",
       "\n",
       "                                              geometry  \n",
       "16   POLYGON ((684573.663 -984338.346, 684531.746 -...  \n",
       "121  POLYGON ((508551.083 -1129377.647, 508544.800 ...  \n",
       "187  POLYGON ((737735.337 -991842.164, 737621.016 -...  "
      ]
     },
     "execution_count": 57,
     "metadata": {},
     "output_type": "execute_result"
    }
   ],
   "source": [
    "sole_state.head(3)"
   ]
  },
  {
   "cell_type": "markdown",
   "metadata": {},
   "source": [
    "_**Oops!**_ FIPS Codes are expressed as one field in our Clinton/Sanders data, but as two fields in the shapefile.\n",
    "\n",
    "In order to merge, we'll need to modify the shapefile data — mashing the two-character `STATEFP` column and the three-character `COUNTYFP` together to create a five-character county FIPS Code.\n",
    "\n",
    "Thanks to the power of pandas, we can do that with the following line:"
   ]
  },
  {
   "cell_type": "code",
   "execution_count": 58,
   "metadata": {},
   "outputs": [],
   "source": [
    "counties['fips_code'] = (counties['STATEFP'] + counties['COUNTYFP'])"
   ]
  },
  {
   "cell_type": "markdown",
   "metadata": {},
   "source": [
    "Let's check that that worked (Hint: scroll all the way to the end of the lines, since this is the most recent field we added):"
   ]
  },
  {
   "cell_type": "code",
   "execution_count": 59,
   "metadata": {},
   "outputs": [
    {
     "data": {
      "text/html": [
       "<div>\n",
       "<style scoped>\n",
       "    .dataframe tbody tr th:only-of-type {\n",
       "        vertical-align: middle;\n",
       "    }\n",
       "\n",
       "    .dataframe tbody tr th {\n",
       "        vertical-align: top;\n",
       "    }\n",
       "\n",
       "    .dataframe thead th {\n",
       "        text-align: right;\n",
       "    }\n",
       "</style>\n",
       "<table border=\"1\" class=\"dataframe\">\n",
       "  <thead>\n",
       "    <tr style=\"text-align: right;\">\n",
       "      <th></th>\n",
       "      <th>STATEFP</th>\n",
       "      <th>COUNTYFP</th>\n",
       "      <th>COUNTYNS</th>\n",
       "      <th>GEOID</th>\n",
       "      <th>NAME</th>\n",
       "      <th>NAMELSAD</th>\n",
       "      <th>ALAND</th>\n",
       "      <th>AWATER</th>\n",
       "      <th>INTPTLAT</th>\n",
       "      <th>INTPTLON</th>\n",
       "      <th>geometry</th>\n",
       "      <th>fips_code</th>\n",
       "    </tr>\n",
       "  </thead>\n",
       "  <tbody>\n",
       "    <tr>\n",
       "      <th>0</th>\n",
       "      <td>31</td>\n",
       "      <td>039</td>\n",
       "      <td>00835841</td>\n",
       "      <td>31039</td>\n",
       "      <td>Cuming</td>\n",
       "      <td>Cuming County</td>\n",
       "      <td>1477652222</td>\n",
       "      <td>10690952</td>\n",
       "      <td>+41.9158651</td>\n",
       "      <td>-096.7885168</td>\n",
       "      <td>POLYGON ((246290.041 -328619.667, 246286.510 -...</td>\n",
       "      <td>31039</td>\n",
       "    </tr>\n",
       "    <tr>\n",
       "      <th>1</th>\n",
       "      <td>53</td>\n",
       "      <td>069</td>\n",
       "      <td>01513275</td>\n",
       "      <td>53069</td>\n",
       "      <td>Wahkiakum</td>\n",
       "      <td>Wahkiakum County</td>\n",
       "      <td>680956809</td>\n",
       "      <td>61588406</td>\n",
       "      <td>+46.2946377</td>\n",
       "      <td>-123.4244583</td>\n",
       "      <td>POLYGON ((-1770686.984 398793.664, -1771124.91...</td>\n",
       "      <td>53069</td>\n",
       "    </tr>\n",
       "    <tr>\n",
       "      <th>2</th>\n",
       "      <td>35</td>\n",
       "      <td>011</td>\n",
       "      <td>00933054</td>\n",
       "      <td>35011</td>\n",
       "      <td>De Baca</td>\n",
       "      <td>De Baca County</td>\n",
       "      <td>6016819484</td>\n",
       "      <td>29089486</td>\n",
       "      <td>+34.3592729</td>\n",
       "      <td>-104.3686961</td>\n",
       "      <td>POLYGON ((-422754.447 -1210188.449, -422784.93...</td>\n",
       "      <td>35011</td>\n",
       "    </tr>\n",
       "  </tbody>\n",
       "</table>\n",
       "</div>"
      ],
      "text/plain": [
       "  STATEFP COUNTYFP  COUNTYNS  GEOID       NAME          NAMELSAD       ALAND  \\\n",
       "0      31      039  00835841  31039     Cuming     Cuming County  1477652222   \n",
       "1      53      069  01513275  53069  Wahkiakum  Wahkiakum County   680956809   \n",
       "2      35      011  00933054  35011    De Baca    De Baca County  6016819484   \n",
       "\n",
       "     AWATER     INTPTLAT      INTPTLON  \\\n",
       "0  10690952  +41.9158651  -096.7885168   \n",
       "1  61588406  +46.2946377  -123.4244583   \n",
       "2  29089486  +34.3592729  -104.3686961   \n",
       "\n",
       "                                            geometry fips_code  \n",
       "0  POLYGON ((246290.041 -328619.667, 246286.510 -...     31039  \n",
       "1  POLYGON ((-1770686.984 398793.664, -1771124.91...     53069  \n",
       "2  POLYGON ((-422754.447 -1210188.449, -422784.93...     35011  "
      ]
     },
     "execution_count": 59,
     "metadata": {},
     "output_type": "execute_result"
    }
   ],
   "source": [
    "counties.head(3)"
   ]
  },
  {
   "cell_type": "markdown",
   "metadata": {},
   "source": [
    "Now, let's run the actual merge.\n",
    "\n",
    "As a note, we'll expand the merge back to the national dataset. (We'll narrow back to just one state again shortly)."
   ]
  },
  {
   "cell_type": "code",
   "execution_count": 60,
   "metadata": {},
   "outputs": [],
   "source": [
    "joined = counties.merge(\n",
    "    sixteen_margins,\n",
    "    on = \"fips_code\",\n",
    "    how = \"left\",\n",
    ")"
   ]
  },
  {
   "cell_type": "code",
   "execution_count": 61,
   "metadata": {},
   "outputs": [
    {
     "data": {
      "text/html": [
       "<div>\n",
       "<style scoped>\n",
       "    .dataframe tbody tr th:only-of-type {\n",
       "        vertical-align: middle;\n",
       "    }\n",
       "\n",
       "    .dataframe tbody tr th {\n",
       "        vertical-align: top;\n",
       "    }\n",
       "\n",
       "    .dataframe thead th {\n",
       "        text-align: right;\n",
       "    }\n",
       "</style>\n",
       "<table border=\"1\" class=\"dataframe\">\n",
       "  <thead>\n",
       "    <tr style=\"text-align: right;\">\n",
       "      <th></th>\n",
       "      <th>STATEFP</th>\n",
       "      <th>COUNTYFP</th>\n",
       "      <th>COUNTYNS</th>\n",
       "      <th>GEOID</th>\n",
       "      <th>NAME</th>\n",
       "      <th>NAMELSAD</th>\n",
       "      <th>ALAND</th>\n",
       "      <th>AWATER</th>\n",
       "      <th>INTPTLAT</th>\n",
       "      <th>INTPTLON</th>\n",
       "      <th>geometry</th>\n",
       "      <th>fips_code</th>\n",
       "      <th>group</th>\n",
       "      <th>clinton_votes</th>\n",
       "      <th>sanders_votes</th>\n",
       "      <th>clinton_margin</th>\n",
       "      <th>clinton_percent</th>\n",
       "    </tr>\n",
       "  </thead>\n",
       "  <tbody>\n",
       "    <tr>\n",
       "      <th>0</th>\n",
       "      <td>31</td>\n",
       "      <td>039</td>\n",
       "      <td>00835841</td>\n",
       "      <td>31039</td>\n",
       "      <td>Cuming</td>\n",
       "      <td>Cuming County</td>\n",
       "      <td>1477652222</td>\n",
       "      <td>10690952</td>\n",
       "      <td>+41.9158651</td>\n",
       "      <td>-096.7885168</td>\n",
       "      <td>POLYGON ((246290.041 -328619.667, 246286.510 -...</td>\n",
       "      <td>31039</td>\n",
       "      <td>Nebraska</td>\n",
       "      <td>34.0</td>\n",
       "      <td>26.0</td>\n",
       "      <td>8.0</td>\n",
       "      <td>0.133333</td>\n",
       "    </tr>\n",
       "    <tr>\n",
       "      <th>1</th>\n",
       "      <td>53</td>\n",
       "      <td>069</td>\n",
       "      <td>01513275</td>\n",
       "      <td>53069</td>\n",
       "      <td>Wahkiakum</td>\n",
       "      <td>Wahkiakum County</td>\n",
       "      <td>680956809</td>\n",
       "      <td>61588406</td>\n",
       "      <td>+46.2946377</td>\n",
       "      <td>-123.4244583</td>\n",
       "      <td>POLYGON ((-1770686.984 398793.664, -1771124.91...</td>\n",
       "      <td>53069</td>\n",
       "      <td>Washington</td>\n",
       "      <td>2.0</td>\n",
       "      <td>17.0</td>\n",
       "      <td>-15.0</td>\n",
       "      <td>-0.789474</td>\n",
       "    </tr>\n",
       "    <tr>\n",
       "      <th>2</th>\n",
       "      <td>35</td>\n",
       "      <td>011</td>\n",
       "      <td>00933054</td>\n",
       "      <td>35011</td>\n",
       "      <td>De Baca</td>\n",
       "      <td>De Baca County</td>\n",
       "      <td>6016819484</td>\n",
       "      <td>29089486</td>\n",
       "      <td>+34.3592729</td>\n",
       "      <td>-104.3686961</td>\n",
       "      <td>POLYGON ((-422754.447 -1210188.449, -422784.93...</td>\n",
       "      <td>35011</td>\n",
       "      <td>New Mexico</td>\n",
       "      <td>96.0</td>\n",
       "      <td>114.0</td>\n",
       "      <td>-18.0</td>\n",
       "      <td>-0.085714</td>\n",
       "    </tr>\n",
       "  </tbody>\n",
       "</table>\n",
       "</div>"
      ],
      "text/plain": [
       "  STATEFP COUNTYFP  COUNTYNS  GEOID       NAME          NAMELSAD       ALAND  \\\n",
       "0      31      039  00835841  31039     Cuming     Cuming County  1477652222   \n",
       "1      53      069  01513275  53069  Wahkiakum  Wahkiakum County   680956809   \n",
       "2      35      011  00933054  35011    De Baca    De Baca County  6016819484   \n",
       "\n",
       "     AWATER     INTPTLAT      INTPTLON  \\\n",
       "0  10690952  +41.9158651  -096.7885168   \n",
       "1  61588406  +46.2946377  -123.4244583   \n",
       "2  29089486  +34.3592729  -104.3686961   \n",
       "\n",
       "                                            geometry fips_code       group  \\\n",
       "0  POLYGON ((246290.041 -328619.667, 246286.510 -...     31039    Nebraska   \n",
       "1  POLYGON ((-1770686.984 398793.664, -1771124.91...     53069  Washington   \n",
       "2  POLYGON ((-422754.447 -1210188.449, -422784.93...     35011  New Mexico   \n",
       "\n",
       "   clinton_votes  sanders_votes  clinton_margin  clinton_percent  \n",
       "0           34.0           26.0             8.0         0.133333  \n",
       "1            2.0           17.0           -15.0        -0.789474  \n",
       "2           96.0          114.0           -18.0        -0.085714  "
      ]
     },
     "execution_count": 61,
     "metadata": {},
     "output_type": "execute_result"
    }
   ],
   "source": [
    "joined.head(3)"
   ]
  },
  {
   "cell_type": "markdown",
   "metadata": {},
   "source": [
    "Construct an initial plot of our findings."
   ]
  },
  {
   "cell_type": "code",
   "execution_count": 62,
   "metadata": {},
   "outputs": [
    {
     "data": {
      "text/plain": [
       "<matplotlib.axes._subplots.AxesSubplot at 0x137e347b8>"
      ]
     },
     "execution_count": 62,
     "metadata": {},
     "output_type": "execute_result"
    },
    {
     "data": {
      "image/png": "[encoded data removed]",
      "text/plain": [
       "<Figure size 432x288 with 1 Axes>"
      ]
     },
     "metadata": {
      "needs_background": "light"
     },
     "output_type": "display_data"
    }
   ],
   "source": [
    "joined_sole_state = joined[joined['STATEFP'] == state_obj.fips]\n",
    "\n",
    "joined_sole_state.dropna().plot(\n",
    "    column = \"clinton_percent\",\n",
    "    cmap = \"BrBG\",\n",
    ")"
   ]
  },
  {
   "cell_type": "markdown",
   "metadata": {},
   "source": [
    "Make this plot prettier, using the tricks we learned in Part I."
   ]
  },
  {
   "cell_type": "code",
   "execution_count": 63,
   "metadata": {},
   "outputs": [
    {
     "data": {
      "text/plain": [
       "Text(0.5, 1, 'Clinton/Sanders winning margin, 2016')"
      ]
     },
     "execution_count": 63,
     "metadata": {},
     "output_type": "execute_result"
    },
    {
     "data": {
      "image/png": "[encoded data removed]",
      "text/plain": [
       "<Figure size 1152x648 with 2 Axes>"
      ]
     },
     "metadata": {
      "needs_background": "light"
     },
     "output_type": "display_data"
    }
   ],
   "source": [
    "fig, ax = plt.subplots(\n",
    "    figsize = (16, 9),\n",
    ")\n",
    "\n",
    "joined_sole_state.dropna().plot(\n",
    "    ax = ax,\n",
    "    column = \"clinton_percent\",\n",
    "    cmap = \"BrBG\",\n",
    "    legend = True,\n",
    ")\n",
    "\n",
    "ax.axis(\"off\")\n",
    "\n",
    "# The color bar is an axis added to the figure when you do Legend = True.\n",
    "# Access it by simply iterating through the axes\n",
    "colorbar = ax.get_figure().get_axes()[0]\n",
    "\n",
    "# This will return an Array of yticks. Treat it like a list.\n",
    "yticks = colorbar.get_yticks()\n",
    "\n",
    "# Using string formatting. Adds commas and removes trailing zeros\n",
    "colorbar.set_yticklabels(['{0:,.0f}'.format(ytick/1000000000) for ytick in yticks])\n",
    "\n",
    "# Now, title your axis.\n",
    "colorbar.set_title(\"Square Kilometers\\n(Millions)\")\n",
    "\n",
    "ax.set_title(\"Clinton/Sanders winning margin, 2016\", fontsize = 34)"
   ]
  },
  {
   "cell_type": "markdown",
   "metadata": {},
   "source": [
    "Finally, save this map as an image."
   ]
  },
  {
   "cell_type": "code",
   "execution_count": 64,
   "metadata": {},
   "outputs": [],
   "source": [
    "fig.savefig(\n",
    "    f\"../output-images/02__clinton-vs-sanders-{state_obj.abbr.lower()}.png\", \n",
    "    transparent = False,\n",
    "    bbox_inches = \"tight\"\n",
    ")"
   ]
  },
  {
   "cell_type": "code",
   "execution_count": null,
   "metadata": {},
   "outputs": [],
   "source": []
  }
 ],
 "metadata": {
  "kernelspec": {
   "display_name": "Python 3",
   "language": "python",
   "name": "python3"
  },
  "language_info": {
   "codemirror_mode": {
    "name": "ipython",
    "version": 3
   },
   "file_extension": ".py",
   "mimetype": "text/x-python",
   "name": "python",
   "nbconvert_exporter": "python",
   "pygments_lexer": "ipython3",
   "version": "3.6.6"
  }
 },
 "nbformat": 4,
 "nbformat_minor": 4
}
